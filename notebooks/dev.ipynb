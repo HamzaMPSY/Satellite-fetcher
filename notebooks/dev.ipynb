{
 "cells": [
  {
   "cell_type": "code",
   "execution_count": 2,
   "id": "ca55b658",
   "metadata": {},
   "outputs": [],
   "source": [
    "import json"
   ]
  },
  {
   "cell_type": "code",
   "execution_count": 3,
   "id": "37bd6d4a",
   "metadata": {},
   "outputs": [
    {
     "data": {
      "text/plain": [
       "'{\"datasetName\": \"landsat_ot_c2_l1\", \"entityIds\": \"LC81120542024022LGN00,LC81120552024022LGN00,LC81130542024013LGN00,LC81130552024013LGN00,LC81120542024006LGN00,LC81120552024006LGN00\"}'"
      ]
     },
     "execution_count": 3,
     "metadata": {},
     "output_type": "execute_result"
    }
   ],
   "source": [
    "d = {'datasetName': 'landsat_ot_c2_l1', 'entityIds': 'LC81120542024022LGN00,LC81120552024022LGN00,LC81130542024013LGN00,LC81130552024013LGN00,LC81120542024006LGN00,LC81120552024006LGN00'}\n",
    "json.dumps(d)"
   ]
  },
  {
   "cell_type": "code",
   "execution_count": null,
   "id": "6634fb52",
   "metadata": {},
   "outputs": [],
   "source": []
  }
 ],
 "metadata": {
  "kernelspec": {
   "display_name": "3.11.5",
   "language": "python",
   "name": "python3"
  },
  "language_info": {
   "codemirror_mode": {
    "name": "ipython",
    "version": 3
   },
   "file_extension": ".py",
   "mimetype": "text/x-python",
   "name": "python",
   "nbconvert_exporter": "python",
   "pygments_lexer": "ipython3",
   "version": "3.11.5"
  }
 },
 "nbformat": 4,
 "nbformat_minor": 5
}
